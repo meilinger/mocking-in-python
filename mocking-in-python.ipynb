{
 "cells": [
  {
   "cell_type": "markdown",
   "metadata": {
    "slideshow": {
     "slide_type": "notes"
    }
   },
   "source": [
    "```\n",
    "pip install jupyter RISE\n",
    "jupyter-nbextension install rise --py --sys-prefix\n",
    "jupyter-nbextension enab rise --py --sys-prefix\n",
    "```"
   ]
  },
  {
   "cell_type": "markdown",
   "metadata": {
    "slideshow": {
     "slide_type": "slide"
    }
   },
   "source": [
    "<h1 class=\"text-center\">Unit tests: Basics of mocking in Python</h1>\n",
    "\n",
    "<p class=\"text-center\">by Joe Meilinger</p>"
   ]
  },
  {
   "cell_type": "markdown",
   "metadata": {
    "slideshow": {
     "slide_type": "slide"
    }
   },
   "source": [
    "## Why mock?\n",
    "\n",
    "- REDUCE EXTERNAL DEPENDENCIES!\n",
    "    - Sometimes we can't rely on external services being up\n",
    "    - Sometimes we don't wait to require a running database\n",
    "- Prevent side effects\n",
    "    - Did calling that service during our unit tests just cause us to hit a rate limit?\n",
    "    - I don't really _want_ to send out 50 emails during my unit tests\n",
    "- Reproduce corner-case situations\n",
    "    - Fails on Tuesdays?!?!"
   ]
  },
  {
   "cell_type": "markdown",
   "metadata": {
    "slideshow": {
     "slide_type": "slide"
    }
   },
   "source": [
    "## What should I use?\n",
    "\n",
    "Would definitely recommend the built-in (Python 3.3+) `unittest.mock` library OR the backported version of that library.\n",
    "\n",
    "However, there are a few other Python-based libraries:\n",
    "\n",
    "- Flexmock: Ruby-inspired\n",
    "- Fudge: Cool name\n",
    "\n",
    "All other options are _really_ old...and these 2 options pale in comparison to `unittest.mock`."
   ]
  },
  {
   "cell_type": "markdown",
   "metadata": {
    "slideshow": {
     "slide_type": "subslide"
    }
   },
   "source": [
    "## I'm still on Python 2.7...\n",
    "\n",
    "Cool, no worries.\n",
    "\n",
    "Just `pip install mock`"
   ]
  },
  {
   "cell_type": "markdown",
   "metadata": {
    "slideshow": {
     "slide_type": "slide"
    }
   },
   "source": [
    "## Patching\n",
    "\n",
    "Patching allows us to temporarily swap out the reference for a specific function/class to a mocked-version of it"
   ]
  },
  {
   "cell_type": "code",
   "execution_count": 47,
   "metadata": {
    "slideshow": {
     "slide_type": "fragment"
    }
   },
   "outputs": [
    {
     "data": {
      "text/plain": [
       "5"
      ]
     },
     "execution_count": 47,
     "metadata": {},
     "output_type": "execute_result"
    }
   ],
   "source": [
    "import time\n",
    "from unittest import mock\n",
    "\n",
    "def expensive_function():\n",
    "    time.sleep(3)\n",
    "    return 5\n",
    "\n",
    "expensive_function()"
   ]
  },
  {
   "cell_type": "code",
   "execution_count": 48,
   "metadata": {
    "slideshow": {
     "slide_type": "fragment"
    }
   },
   "outputs": [
    {
     "name": "stdout",
     "output_type": "stream",
     "text": [
      "5\n"
     ]
    }
   ],
   "source": [
    "with mock.patch('time.sleep') as f:\n",
    "    print(expensive_function())"
   ]
  },
  {
   "cell_type": "markdown",
   "metadata": {
    "slideshow": {
     "slide_type": "slide"
    }
   },
   "source": [
    "## What just happened?\n",
    "\n",
    "- We patched the `time.sleep` function\n",
    "    - Internally the reference to `time.sleep` was swaped out to a new blank instance of a `MagicMock`\n",
    "    - Reference was restored as soon as we left the context block"
   ]
  },
  {
   "cell_type": "code",
   "execution_count": 49,
   "metadata": {
    "slideshow": {
     "slide_type": "fragment"
    }
   },
   "outputs": [
    {
     "name": "stdout",
     "output_type": "stream",
     "text": [
      "<MagicMock name='sleep' id='140075544656248'>\n",
      "5\n",
      "This call takes the expected 3 seconds: 5\n"
     ]
    }
   ],
   "source": [
    "with mock.patch('time.sleep') as f:\n",
    "    print(f)\n",
    "    print(expensive_function())\n",
    "\n",
    "# Proof that the original reference to `time.sleep` was restored...\n",
    "print('This call takes the expected 3 seconds: {}'.format(expensive_function()))"
   ]
  },
  {
   "cell_type": "code",
   "execution_count": 50,
   "metadata": {},
   "outputs": [
    {
     "data": {
      "text/plain": [
       "5"
      ]
     },
     "execution_count": 50,
     "metadata": {},
     "output_type": "execute_result"
    }
   ],
   "source": [
    "m = mock.MagicMock()\n",
    "m.return_value = 5\n",
    "\n",
    "m()"
   ]
  },
  {
   "cell_type": "markdown",
   "metadata": {},
   "source": [
    "Geocoding example"
   ]
  },
  {
   "cell_type": "markdown",
   "metadata": {},
   "source": [
    "Email example"
   ]
  },
  {
   "cell_type": "markdown",
   "metadata": {},
   "source": [
    "Database example"
   ]
  },
  {
   "cell_type": "markdown",
   "metadata": {},
   "source": [
    "Other cool things you can check out"
   ]
  }
 ],
 "metadata": {
  "celltoolbar": "Slideshow",
  "kernelspec": {
   "display_name": "Python 3",
   "language": "python",
   "name": "python3"
  },
  "language_info": {
   "codemirror_mode": {
    "name": "ipython",
    "version": 3
   },
   "file_extension": ".py",
   "mimetype": "text/x-python",
   "name": "python",
   "nbconvert_exporter": "python",
   "pygments_lexer": "ipython3",
   "version": "3.6.4"
  }
 },
 "nbformat": 4,
 "nbformat_minor": 2
}
