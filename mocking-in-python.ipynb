{
 "cells": [
  {
   "cell_type": "markdown",
   "metadata": {
    "slideshow": {
     "slide_type": "slide"
    }
   },
   "source": [
    "<h1 class=\"text-center\">Unit tests: Basics of mocking in Python</h1>\n",
    "\n",
    "<p class=\"text-center\">by Joe Meilinger</p>"
   ]
  },
  {
   "cell_type": "markdown",
   "metadata": {
    "slideshow": {
     "slide_type": "slide"
    }
   },
   "source": [
    "## Why mock?\n",
    "\n",
    "- REDUCE EXTERNAL DEPENDENCIES!\n",
    "    - Sometimes we can't rely on external services being up\n",
    "    - Sometimes we don't wait to require a running database\n",
    "- Prevent side effects\n",
    "    - Did calling that service during our unit tests just cause us to hit a rate limit?\n",
    "    - I don't really _want_ to send out 50 emails during my unit tests\n",
    "- Reproduce corner-case situations\n",
    "    - Fails on Tuesdays?!?!"
   ]
  },
  {
   "cell_type": "markdown",
   "metadata": {
    "slideshow": {
     "slide_type": "slide"
    }
   },
   "source": [
    "## What should I use?\n",
    "\n",
    "Would definitely recommend the built-in (Python 3.3+) `unittest.mock` library OR the backported version of that library.\n",
    "\n",
    "However, there are a few other Python-based libraries:\n",
    "\n",
    "- Flexmock: Ruby-inspired\n",
    "- Fudge: Cool name\n",
    "\n",
    "All other options are _really_ old...and these 2 options pale in comparison to `unittest.mock`."
   ]
  },
  {
   "cell_type": "markdown",
   "metadata": {
    "slideshow": {
     "slide_type": "slide"
    }
   },
   "source": [
    "## I'm still on Python 2.7...\n",
    "\n",
    "Cool, no worries.\n",
    "\n",
    "Just `pip install mock`\n",
    "\n",
    "and you'll be good to go!"
   ]
  },
  {
   "cell_type": "markdown",
   "metadata": {
    "slideshow": {
     "slide_type": "slide"
    }
   },
   "source": [
    "## Patching\n",
    "\n",
    "Patching allows us to temporarily swap out the reference for a specific function/class to a mocked-version of it"
   ]
  },
  {
   "cell_type": "code",
   "execution_count": null,
   "metadata": {
    "slideshow": {
     "slide_type": "fragment"
    }
   },
   "outputs": [],
   "source": [
    "import time\n",
    "from unittest import mock\n",
    "\n",
    "def expensive_function():\n",
    "    time.sleep(3)\n",
    "    return 5\n",
    "\n",
    "expensive_function()"
   ]
  },
  {
   "cell_type": "code",
   "execution_count": null,
   "metadata": {
    "slideshow": {
     "slide_type": "fragment"
    }
   },
   "outputs": [],
   "source": [
    "# Empty patch\n",
    "with mock.patch('time.sleep') as f:\n",
    "    print(expensive_function())"
   ]
  },
  {
   "cell_type": "markdown",
   "metadata": {
    "slideshow": {
     "slide_type": "slide"
    }
   },
   "source": [
    "## What just happened?\n",
    "\n",
    "- We patched the `time.sleep` function\n",
    "    - Internally the reference to `time.sleep` was swaped out to a new blank instance of a `MagicMock`\n",
    "    - The created MagicMock responded to the function call\n",
    "    - Reference was restored as soon as we left the context block"
   ]
  },
  {
   "cell_type": "code",
   "execution_count": null,
   "metadata": {
    "slideshow": {
     "slide_type": "fragment"
    }
   },
   "outputs": [],
   "source": [
    "with mock.patch('time.sleep') as f:\n",
    "    print(f)\n",
    "    print(expensive_function())\n",
    "\n",
    "# Proof that the original reference to `time.sleep` was restored...\n",
    "print('This call takes the expected 3 seconds: {}'.format(expensive_function()))"
   ]
  },
  {
   "cell_type": "markdown",
   "metadata": {
    "slideshow": {
     "slide_type": "slide"
    }
   },
   "source": [
    "## MagicMocks are awesome!\n",
    "\n",
    "- Allow you to shim pretty much anything you want"
   ]
  },
  {
   "cell_type": "code",
   "execution_count": null,
   "metadata": {
    "slideshow": {
     "slide_type": "-"
    }
   },
   "outputs": [],
   "source": [
    "from unittest.mock import MagicMock\n",
    "\n",
    "m = MagicMock()\n",
    "\n",
    "m.dummy_function.return_value = 'this is a mocked function'\n",
    "m.dummy_attr = 'dummy attribute'\n",
    "\n",
    "print('Default call on mock', m())\n",
    "print('m.dummy_function.return_value:', m.dummy_function())\n",
    "\n",
    "m.return_value.color = 'yellow'\n",
    "\n",
    "print('Mocked return object \"color\" attribute:', m().color)"
   ]
  },
  {
   "cell_type": "markdown",
   "metadata": {
    "slideshow": {
     "slide_type": "slide"
    }
   },
   "source": [
    "## Side effects\n",
    "\n",
    "- Sometimes you want to ensure that an exception will be handled correctly by your calling code, exception injection\n",
    "- If you want subsequent calls to return DIFFERENT values you'll need to construct a new mock or use side effects"
   ]
  },
  {
   "cell_type": "code",
   "execution_count": null,
   "metadata": {
    "slideshow": {
     "slide_type": "-"
    }
   },
   "outputs": [],
   "source": [
    "def external_task():\n",
    "    # Function performs a task that may/may not throw an exception\n",
    "    return True\n",
    "\n",
    "def regular_function():\n",
    "    return external_task()\n",
    "\n",
    "with mock.patch('__main__.external_task') as m:\n",
    "    m.side_effect = Exception('Handle THIS!')\n",
    "    \n",
    "    external_task()"
   ]
  },
  {
   "cell_type": "markdown",
   "metadata": {
    "slideshow": {
     "slide_type": "slide"
    }
   },
   "source": [
    "## Side effects (mock effect ordering)"
   ]
  },
  {
   "cell_type": "code",
   "execution_count": null,
   "metadata": {
    "slideshow": {
     "slide_type": "-"
    }
   },
   "outputs": [],
   "source": [
    "import random\n",
    "\n",
    "# NOTE: Relying on state in this manner is bad\n",
    "\n",
    "def get_number():\n",
    "    return random.choice([1, 2, 3, 4])\n",
    "\n",
    "def function_with_state_dependency():\n",
    "    if get_number() < 3:\n",
    "        return True\n",
    "    else:\n",
    "        return False\n",
    "\n",
    "with mock.patch('__main__.get_number') as f:\n",
    "    f.side_effect = [1, 3]\n",
    "    \n",
    "    print('First call:', function_with_state_dependency())\n",
    "    print('Second call:', function_with_state_dependency())"
   ]
  },
  {
   "cell_type": "markdown",
   "metadata": {
    "slideshow": {
     "slide_type": "slide"
    }
   },
   "source": [
    "## Use case: geocoding\n",
    "\n",
    "- We don't want to eat up geocoding API limits during unit tests\n",
    "- If we don't mock this, we'll have a external dependency tied to our application"
   ]
  },
  {
   "cell_type": "code",
   "execution_count": null,
   "metadata": {},
   "outputs": [],
   "source": [
    "import geocoder\n",
    "from unittest import mock, TestCase, TestSuite, TestLoader, TextTestRunner\n",
    "\n",
    "\n",
    "class User:\n",
    "    def __init__(self, address='20 S. Sarah Street, St. Louis, MO'):\n",
    "        self.location = geocoder.google(address).latlng\n",
    "\n",
    "        \n",
    "class Tests(TestCase):\n",
    "    @mock.patch('geocoder.google')\n",
    "    def test_create_user(self, mock_geocoder):\n",
    "        mock_geocoder.return_value.latlng = [38.6362566, -90.2466767]\n",
    "        \n",
    "        u = User()\n",
    "        # Ok, we just spent an API credit if we didn't mock this out\n",
    "        self.assertAlmostEqual(u.location[0], 38.6, places=1)\n",
    "        self.assertAlmostEqual(u.location[1], -90.2, places=1)\n",
    "        \n",
    "        # Can also assert that specific calls to mock are only execute a certain number of times #awesome\n",
    "        mock_geocoder.assert_called_once()\n",
    "    \n",
    "# Try w/o tests\n",
    "u = User()\n",
    "print('User location:', u.location)\n",
    "\n",
    "# Try using mocked tests\n",
    "suite = TestLoader().loadTestsFromTestCase(Tests)\n",
    "runner = TextTestRunner()\n",
    "runner.run(suite)"
   ]
  },
  {
   "cell_type": "markdown",
   "metadata": {
    "slideshow": {
     "slide_type": "slide"
    }
   },
   "source": [
    "## Use case: database\n",
    "\n",
    "- Don't necessarily always want to rely on a database connection when running unit tests"
   ]
  },
  {
   "cell_type": "code",
   "execution_count": null,
   "metadata": {},
   "outputs": [],
   "source": [
    "import psycopg2\n",
    "from psycopg2.extras import DictCursor\n",
    "from unittest import mock, TestCase, TestSuite, TestLoader, TextTestRunner\n",
    "\n",
    "conn = psycopg2.connect(dbname='mydatabase')\n",
    "\n",
    "with conn.cursor() as c:\n",
    "    c.execute('drop table if exists transactions')\n",
    "    c.execute('create table transactions (id serial, amount money);')\n",
    "    c.execute('insert into transactions (amount) values (1.50), (2), (-3), (82.25);')\n",
    "    conn.commit()\n",
    "\n",
    "# Sum of transactions = $82.75\n",
    "\n",
    "class TransactionCounter:\n",
    "    @staticmethod\n",
    "    def count_transactions(conn):\n",
    "        c = conn.cursor()\n",
    "        c.execute('select sum(amount) from transactions;')\n",
    "        return c.fetchall()[0][0]\n",
    "\n",
    "\n",
    "class Tests(TestCase):\n",
    "    @mock.patch('__main__.conn')\n",
    "    def test_transaction_sum(self, mock_connection):\n",
    "        mock_cur = mock_connection.cursor.return_value\n",
    "        query_result = [('$82.75',)]\n",
    "        mock_cur.fetchall.return_value = query_result\n",
    "        \n",
    "        self.assertEqual(TransactionCounter.count_transactions(mock_connection), '$82.75')\n",
    "\n",
    "# Living DB required\n",
    "print(TransactionCounter.count_transactions(conn))\n",
    "        \n",
    "# No DB required when mocked   \n",
    "suite = TestLoader().loadTestsFromTestCase(Tests)\n",
    "runner = TextTestRunner()\n",
    "runner.run(suite)        \n",
    "\n",
    "conn.close()"
   ]
  },
  {
   "cell_type": "markdown",
   "metadata": {
    "slideshow": {
     "slide_type": "slide"
    }
   },
   "source": [
    "## Where to go from here?\n",
    "\n",
    "- Speccing magic mocks\n",
    "- Mocking full classes\n",
    "- https://mockaroo.com/"
   ]
  },
  {
   "cell_type": "markdown",
   "metadata": {
    "slideshow": {
     "slide_type": "slide"
    }
   },
   "source": [
    "<h1 class=\"text-center\">Thank you!</h1>"
   ]
  },
  {
   "cell_type": "markdown",
   "metadata": {
    "slideshow": {
     "slide_type": "fragment"
    }
   },
   "source": [
    "<h1 class=\"text-center\">Questions?</h1>\n",
    "\n",
    "<p class=\"text-center\">also feel free to hit me up at <a href='mailto:joemeilinger@gmail.com'>joemeilinger@gmail.com</a> any time or @meilinger on stltech.org slack</p>"
   ]
  }
 ],
 "metadata": {
  "celltoolbar": "Slideshow",
  "kernelspec": {
   "display_name": "Python 3",
   "language": "python",
   "name": "python3"
  },
  "language_info": {
   "codemirror_mode": {
    "name": "ipython",
    "version": 3
   },
   "file_extension": ".py",
   "mimetype": "text/x-python",
   "name": "python",
   "nbconvert_exporter": "python",
   "pygments_lexer": "ipython3",
   "version": "3.6.4"
  }
 },
 "nbformat": 4,
 "nbformat_minor": 2
}
